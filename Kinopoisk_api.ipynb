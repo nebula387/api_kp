{
 "cells": [
  {
   "cell_type": "code",
   "execution_count": 1,
   "id": "03020d14-2b17-4192-a90d-97b5c421f8bc",
   "metadata": {},
   "outputs": [],
   "source": [
    "import requests\n",
    "import json\n",
    "import os\n",
    "# from pprint import pprint"
   ]
  },
  {
   "cell_type": "code",
   "execution_count": 2,
   "id": "5c4e40ec-2840-4c26-97c8-b8e1f37d2b44",
   "metadata": {},
   "outputs": [],
   "source": [
    "# создаем переменные и сессию"
   ]
  },
  {
   "cell_type": "code",
   "execution_count": 5,
   "id": "a9093428-a27a-4a99-a539-a56897d99a7b",
   "metadata": {},
   "outputs": [],
   "source": [
    "token = os.environ['KP_TOKEN']\n",
    "url = 'https://api.kinopoisk.dev/v1.4/movie'\n",
    "\n",
    "session = requests.Session()\n",
    "session.headers.update({'accept': 'application/json', 'X-API-KEY': token})\n",
    "res_comedies = []"
   ]
  },
  {
   "cell_type": "code",
   "execution_count": 6,
   "id": "c058c8f0-4d3e-4e28-afe6-43d236cd0b69",
   "metadata": {},
   "outputs": [],
   "source": [
    "# делаем первый запрос и смотрим ответ"
   ]
  },
  {
   "cell_type": "code",
   "execution_count": 7,
   "id": "f66a721e-784d-43d5-b243-b5a324325d1f",
   "metadata": {},
   "outputs": [
    {
     "name": "stdout",
     "output_type": "stream",
     "text": [
      "<Response [200]>\n"
     ]
    }
   ],
   "source": [
    "# get first page\n",
    "response = session.get(url,\n",
    "                       params={'type': ['movie'],\n",
    "                               'genres.name': ['комедия'],\n",
    "                               'year': ['2000'],\n",
    "                               'selectFields': ['name', 'movieLength', 'countries'], # rating\n",
    "                               'sortField': 'rating.kp',\n",
    "                               'sortType': [-1],\n",
    "                               'page': 1,\n",
    "                               'limit': 250})\n",
    "print(response)"
   ]
  },
  {
   "cell_type": "code",
   "execution_count": 8,
   "id": "dd840f89-4c24-4803-9db3-c013dc312b50",
   "metadata": {},
   "outputs": [],
   "source": [
    "# в случае успешного ответа записываем первый фильм в список res_comedies\n",
    "# проходим циклом по полученным страницам c выбранными полями и сортировкой в порядке уменьшения рейтинга кинопоиска\n",
    "# полученные фильмы добавляем в список \n",
    "# если фильмов больше 1000 (0-999) прерываем цикл"
   ]
  },
  {
   "cell_type": "code",
   "execution_count": 9,
   "id": "f47c6958-c4c8-430b-8e8e-862481a0b8c7",
   "metadata": {},
   "outputs": [
    {
     "name": "stdout",
     "output_type": "stream",
     "text": [
      "1000\n"
     ]
    }
   ],
   "source": [
    "if response.status_code:\n",
    "    response_json = response.json()\n",
    "    res_comedies += response_json.get('items', [])\n",
    "    count_pages = response_json.get('pages', 0)\n",
    "    for page in range(2, count_pages):\n",
    "        response = session.get(url,\n",
    "                                params={'type': ['movie'],\n",
    "                                        'genres.name': ['комедия'],\n",
    "                                        'year': ['2000'],\n",
    "                                        'selectFields': ['name', 'movieLength', 'countries'], # 'rating'\n",
    "                                        'sortField': 'rating.kp',\n",
    "                                        'sortType': [-1],\n",
    "                                        'page': page,\n",
    "                                        'limit': 250})\n",
    "        if response.status_code:\n",
    "            res_comedies += response.json().get('docs', [])\n",
    "            if len(res_comedies) > 999:\n",
    "                break\n",
    "print(len(res_comedies))"
   ]
  },
  {
   "cell_type": "code",
   "execution_count": 10,
   "id": "66740a5e-69f8-4d5c-ac50-4b244f1ec6e9",
   "metadata": {},
   "outputs": [],
   "source": [
    "# записываем полученный список в json file"
   ]
  },
  {
   "cell_type": "code",
   "execution_count": 11,
   "id": "75303a1f-4ddb-4c1f-8ffb-15766c414168",
   "metadata": {},
   "outputs": [],
   "source": [
    "# res_comedies"
   ]
  },
  {
   "cell_type": "code",
   "execution_count": 12,
   "id": "ba93642b-3091-4d85-ae49-5561a30c79a8",
   "metadata": {},
   "outputs": [],
   "source": [
    "with open('comedies_n5.json', 'w', encoding='utf-8') as f:\n",
    "    json.dump(res_comedies, f, ensure_ascii=False)"
   ]
  },
  {
   "cell_type": "code",
   "execution_count": 13,
   "id": "44ef9576-4ede-4f3b-9e97-6bed5599fb95",
   "metadata": {},
   "outputs": [],
   "source": [
    "# при необходимости открываем сохраненный файл и смотрим построчно"
   ]
  },
  {
   "cell_type": "code",
   "execution_count": 14,
   "id": "73cf2d17-4521-4aed-98f8-734d418c1572",
   "metadata": {},
   "outputs": [],
   "source": [
    "file = 'comedies_n5.json'\n",
    "with open(file, 'r', encoding='utf-8') as f:\n",
    "    reader = json.load(f)\n"
   ]
  },
  {
   "cell_type": "code",
   "execution_count": 15,
   "id": "a288d5d6-d535-4225-837e-4d19c701a9a1",
   "metadata": {},
   "outputs": [],
   "source": [
    "## много текста\n",
    "# for movie in reader:\n",
    "#     print(movie)"
   ]
  },
  {
   "cell_type": "code",
   "execution_count": null,
   "id": "568d2af9-f440-446e-a78a-dcce7dcdc10e",
   "metadata": {},
   "outputs": [],
   "source": []
  }
 ],
 "metadata": {
  "kernelspec": {
   "display_name": "Python 3 (ipykernel)",
   "language": "python",
   "name": "python3"
  },
  "language_info": {
   "codemirror_mode": {
    "name": "ipython",
    "version": 3
   },
   "file_extension": ".py",
   "mimetype": "text/x-python",
   "name": "python",
   "nbconvert_exporter": "python",
   "pygments_lexer": "ipython3",
   "version": "3.12.4"
  }
 },
 "nbformat": 4,
 "nbformat_minor": 5
}
